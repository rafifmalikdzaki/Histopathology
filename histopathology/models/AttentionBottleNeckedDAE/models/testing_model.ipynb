{
 "cells": [
  {
   "cell_type": "code",
   "id": "initial_id",
   "metadata": {
    "collapsed": true,
    "ExecuteTime": {
     "end_time": "2024-07-27T15:47:07.108780Z",
     "start_time": "2024-07-27T15:47:07.105612Z"
    }
   },
   "source": [
    "from torch import nn\n",
    "import pytorch_lightning as pl\n",
    "from pytorch_lightning.loggers import WandbLogger\n",
    "from pytorch_lightning.callbacks import EarlyStopping, LearningRateMonitor, ModelCheckpoint\n",
    "from model import DAE_KAN_Attention\n",
    "from histopathology_dataset import *\n",
    "from torch.utils.data import Dataset, DataLoader\n",
    "import wandb"
   ],
   "outputs": [],
   "execution_count": 3
  },
  {
   "metadata": {
    "ExecuteTime": {
     "end_time": "2024-07-27T15:47:08.918893Z",
     "start_time": "2024-07-27T15:47:08.867898Z"
    }
   },
   "cell_type": "code",
   "source": [
    "\n",
    "train_ds = ImageDataset(*create_dataset('train'), 'cuda')\n",
    "test_ds = ImageDataset(*create_dataset('test'), 'cuda')\n",
    "\n",
    "train_dl = DataLoader(train_ds, batch_size=12, shuffle=True)\n",
    "test_dl = DataLoader(test_ds, batch_size=12, shuffle=True)\n"
   ],
   "id": "5c4fbbd313002606",
   "outputs": [
    {
     "ename": "FileNotFoundError",
     "evalue": "[Errno 2] No such file or directory: './data/processed/train.csv'",
     "output_type": "error",
     "traceback": [
      "\u001B[0;31m---------------------------------------------------------------------------\u001B[0m",
      "\u001B[0;31mFileNotFoundError\u001B[0m                         Traceback (most recent call last)",
      "Cell \u001B[0;32mIn[4], line 1\u001B[0m\n\u001B[0;32m----> 1\u001B[0m train_ds \u001B[38;5;241m=\u001B[39m ImageDataset(\u001B[38;5;241m*\u001B[39m\u001B[43mcreate_dataset\u001B[49m\u001B[43m(\u001B[49m\u001B[38;5;124;43m'\u001B[39;49m\u001B[38;5;124;43mtrain\u001B[39;49m\u001B[38;5;124;43m'\u001B[39;49m\u001B[43m)\u001B[49m, \u001B[38;5;124m'\u001B[39m\u001B[38;5;124mcuda\u001B[39m\u001B[38;5;124m'\u001B[39m)\n\u001B[1;32m      2\u001B[0m test_ds \u001B[38;5;241m=\u001B[39m ImageDataset(\u001B[38;5;241m*\u001B[39mcreate_dataset(\u001B[38;5;124m'\u001B[39m\u001B[38;5;124mtest\u001B[39m\u001B[38;5;124m'\u001B[39m), \u001B[38;5;124m'\u001B[39m\u001B[38;5;124mcuda\u001B[39m\u001B[38;5;124m'\u001B[39m)\n\u001B[1;32m      4\u001B[0m train_dl \u001B[38;5;241m=\u001B[39m DataLoader(train_ds, batch_size\u001B[38;5;241m=\u001B[39m\u001B[38;5;241m12\u001B[39m, shuffle\u001B[38;5;241m=\u001B[39m\u001B[38;5;28;01mTrue\u001B[39;00m)\n",
      "File \u001B[0;32m~/Research/Histopathology/histopathology/models/AttentionBottleNeckedDAE/models/histopathology_dataset.py:12\u001B[0m, in \u001B[0;36mcreate_dataset\u001B[0;34m(subset, image_path)\u001B[0m\n\u001B[1;32m     10\u001B[0m \u001B[38;5;28;01mif\u001B[39;00m image_path \u001B[38;5;129;01mis\u001B[39;00m \u001B[38;5;28;01mNone\u001B[39;00m:\n\u001B[1;32m     11\u001B[0m     image_path \u001B[38;5;241m=\u001B[39m \u001B[38;5;124mf\u001B[39m\u001B[38;5;124m\"\u001B[39m\u001B[38;5;124m./data/processed/\u001B[39m\u001B[38;5;132;01m{\u001B[39;00msubset\u001B[38;5;132;01m}\u001B[39;00m\u001B[38;5;124m.csv\u001B[39m\u001B[38;5;124m\"\u001B[39m\n\u001B[0;32m---> 12\u001B[0m df \u001B[38;5;241m=\u001B[39m \u001B[43mpd\u001B[49m\u001B[38;5;241;43m.\u001B[39;49m\u001B[43mread_csv\u001B[49m\u001B[43m(\u001B[49m\u001B[43mimage_path\u001B[49m\u001B[43m)\u001B[49m\n\u001B[1;32m     13\u001B[0m X \u001B[38;5;241m=\u001B[39m df[\u001B[38;5;124m'\u001B[39m\u001B[38;5;124mImage\u001B[39m\u001B[38;5;124m'\u001B[39m]\u001B[38;5;241m.\u001B[39mapply(\u001B[38;5;28;01mlambda\u001B[39;00m x: \u001B[38;5;124m\"\u001B[39m\u001B[38;5;124m./data/processed/HeparUnifiedPNG/\u001B[39m\u001B[38;5;124m\"\u001B[39m \u001B[38;5;241m+\u001B[39m x)\u001B[38;5;241m.\u001B[39mastype(\u001B[38;5;28mstr\u001B[39m)\u001B[38;5;241m.\u001B[39mto_list()\n\u001B[1;32m     14\u001B[0m y \u001B[38;5;241m=\u001B[39m torch\u001B[38;5;241m.\u001B[39mfrom_numpy(df\u001B[38;5;241m.\u001B[39miloc[:, \u001B[38;5;241m-\u001B[39m\u001B[38;5;241m1\u001B[39m]\u001B[38;5;241m.\u001B[39mto_numpy())\n",
      "File \u001B[0;32m~/anaconda3/envs/Histo_res/lib/python3.9/site-packages/pandas/io/parsers/readers.py:1026\u001B[0m, in \u001B[0;36mread_csv\u001B[0;34m(filepath_or_buffer, sep, delimiter, header, names, index_col, usecols, dtype, engine, converters, true_values, false_values, skipinitialspace, skiprows, skipfooter, nrows, na_values, keep_default_na, na_filter, verbose, skip_blank_lines, parse_dates, infer_datetime_format, keep_date_col, date_parser, date_format, dayfirst, cache_dates, iterator, chunksize, compression, thousands, decimal, lineterminator, quotechar, quoting, doublequote, escapechar, comment, encoding, encoding_errors, dialect, on_bad_lines, delim_whitespace, low_memory, memory_map, float_precision, storage_options, dtype_backend)\u001B[0m\n\u001B[1;32m   1013\u001B[0m kwds_defaults \u001B[38;5;241m=\u001B[39m _refine_defaults_read(\n\u001B[1;32m   1014\u001B[0m     dialect,\n\u001B[1;32m   1015\u001B[0m     delimiter,\n\u001B[0;32m   (...)\u001B[0m\n\u001B[1;32m   1022\u001B[0m     dtype_backend\u001B[38;5;241m=\u001B[39mdtype_backend,\n\u001B[1;32m   1023\u001B[0m )\n\u001B[1;32m   1024\u001B[0m kwds\u001B[38;5;241m.\u001B[39mupdate(kwds_defaults)\n\u001B[0;32m-> 1026\u001B[0m \u001B[38;5;28;01mreturn\u001B[39;00m \u001B[43m_read\u001B[49m\u001B[43m(\u001B[49m\u001B[43mfilepath_or_buffer\u001B[49m\u001B[43m,\u001B[49m\u001B[43m \u001B[49m\u001B[43mkwds\u001B[49m\u001B[43m)\u001B[49m\n",
      "File \u001B[0;32m~/anaconda3/envs/Histo_res/lib/python3.9/site-packages/pandas/io/parsers/readers.py:620\u001B[0m, in \u001B[0;36m_read\u001B[0;34m(filepath_or_buffer, kwds)\u001B[0m\n\u001B[1;32m    617\u001B[0m _validate_names(kwds\u001B[38;5;241m.\u001B[39mget(\u001B[38;5;124m\"\u001B[39m\u001B[38;5;124mnames\u001B[39m\u001B[38;5;124m\"\u001B[39m, \u001B[38;5;28;01mNone\u001B[39;00m))\n\u001B[1;32m    619\u001B[0m \u001B[38;5;66;03m# Create the parser.\u001B[39;00m\n\u001B[0;32m--> 620\u001B[0m parser \u001B[38;5;241m=\u001B[39m \u001B[43mTextFileReader\u001B[49m\u001B[43m(\u001B[49m\u001B[43mfilepath_or_buffer\u001B[49m\u001B[43m,\u001B[49m\u001B[43m \u001B[49m\u001B[38;5;241;43m*\u001B[39;49m\u001B[38;5;241;43m*\u001B[39;49m\u001B[43mkwds\u001B[49m\u001B[43m)\u001B[49m\n\u001B[1;32m    622\u001B[0m \u001B[38;5;28;01mif\u001B[39;00m chunksize \u001B[38;5;129;01mor\u001B[39;00m iterator:\n\u001B[1;32m    623\u001B[0m     \u001B[38;5;28;01mreturn\u001B[39;00m parser\n",
      "File \u001B[0;32m~/anaconda3/envs/Histo_res/lib/python3.9/site-packages/pandas/io/parsers/readers.py:1620\u001B[0m, in \u001B[0;36mTextFileReader.__init__\u001B[0;34m(self, f, engine, **kwds)\u001B[0m\n\u001B[1;32m   1617\u001B[0m     \u001B[38;5;28mself\u001B[39m\u001B[38;5;241m.\u001B[39moptions[\u001B[38;5;124m\"\u001B[39m\u001B[38;5;124mhas_index_names\u001B[39m\u001B[38;5;124m\"\u001B[39m] \u001B[38;5;241m=\u001B[39m kwds[\u001B[38;5;124m\"\u001B[39m\u001B[38;5;124mhas_index_names\u001B[39m\u001B[38;5;124m\"\u001B[39m]\n\u001B[1;32m   1619\u001B[0m \u001B[38;5;28mself\u001B[39m\u001B[38;5;241m.\u001B[39mhandles: IOHandles \u001B[38;5;241m|\u001B[39m \u001B[38;5;28;01mNone\u001B[39;00m \u001B[38;5;241m=\u001B[39m \u001B[38;5;28;01mNone\u001B[39;00m\n\u001B[0;32m-> 1620\u001B[0m \u001B[38;5;28mself\u001B[39m\u001B[38;5;241m.\u001B[39m_engine \u001B[38;5;241m=\u001B[39m \u001B[38;5;28;43mself\u001B[39;49m\u001B[38;5;241;43m.\u001B[39;49m\u001B[43m_make_engine\u001B[49m\u001B[43m(\u001B[49m\u001B[43mf\u001B[49m\u001B[43m,\u001B[49m\u001B[43m \u001B[49m\u001B[38;5;28;43mself\u001B[39;49m\u001B[38;5;241;43m.\u001B[39;49m\u001B[43mengine\u001B[49m\u001B[43m)\u001B[49m\n",
      "File \u001B[0;32m~/anaconda3/envs/Histo_res/lib/python3.9/site-packages/pandas/io/parsers/readers.py:1880\u001B[0m, in \u001B[0;36mTextFileReader._make_engine\u001B[0;34m(self, f, engine)\u001B[0m\n\u001B[1;32m   1878\u001B[0m     \u001B[38;5;28;01mif\u001B[39;00m \u001B[38;5;124m\"\u001B[39m\u001B[38;5;124mb\u001B[39m\u001B[38;5;124m\"\u001B[39m \u001B[38;5;129;01mnot\u001B[39;00m \u001B[38;5;129;01min\u001B[39;00m mode:\n\u001B[1;32m   1879\u001B[0m         mode \u001B[38;5;241m+\u001B[39m\u001B[38;5;241m=\u001B[39m \u001B[38;5;124m\"\u001B[39m\u001B[38;5;124mb\u001B[39m\u001B[38;5;124m\"\u001B[39m\n\u001B[0;32m-> 1880\u001B[0m \u001B[38;5;28mself\u001B[39m\u001B[38;5;241m.\u001B[39mhandles \u001B[38;5;241m=\u001B[39m \u001B[43mget_handle\u001B[49m\u001B[43m(\u001B[49m\n\u001B[1;32m   1881\u001B[0m \u001B[43m    \u001B[49m\u001B[43mf\u001B[49m\u001B[43m,\u001B[49m\n\u001B[1;32m   1882\u001B[0m \u001B[43m    \u001B[49m\u001B[43mmode\u001B[49m\u001B[43m,\u001B[49m\n\u001B[1;32m   1883\u001B[0m \u001B[43m    \u001B[49m\u001B[43mencoding\u001B[49m\u001B[38;5;241;43m=\u001B[39;49m\u001B[38;5;28;43mself\u001B[39;49m\u001B[38;5;241;43m.\u001B[39;49m\u001B[43moptions\u001B[49m\u001B[38;5;241;43m.\u001B[39;49m\u001B[43mget\u001B[49m\u001B[43m(\u001B[49m\u001B[38;5;124;43m\"\u001B[39;49m\u001B[38;5;124;43mencoding\u001B[39;49m\u001B[38;5;124;43m\"\u001B[39;49m\u001B[43m,\u001B[49m\u001B[43m \u001B[49m\u001B[38;5;28;43;01mNone\u001B[39;49;00m\u001B[43m)\u001B[49m\u001B[43m,\u001B[49m\n\u001B[1;32m   1884\u001B[0m \u001B[43m    \u001B[49m\u001B[43mcompression\u001B[49m\u001B[38;5;241;43m=\u001B[39;49m\u001B[38;5;28;43mself\u001B[39;49m\u001B[38;5;241;43m.\u001B[39;49m\u001B[43moptions\u001B[49m\u001B[38;5;241;43m.\u001B[39;49m\u001B[43mget\u001B[49m\u001B[43m(\u001B[49m\u001B[38;5;124;43m\"\u001B[39;49m\u001B[38;5;124;43mcompression\u001B[39;49m\u001B[38;5;124;43m\"\u001B[39;49m\u001B[43m,\u001B[49m\u001B[43m \u001B[49m\u001B[38;5;28;43;01mNone\u001B[39;49;00m\u001B[43m)\u001B[49m\u001B[43m,\u001B[49m\n\u001B[1;32m   1885\u001B[0m \u001B[43m    \u001B[49m\u001B[43mmemory_map\u001B[49m\u001B[38;5;241;43m=\u001B[39;49m\u001B[38;5;28;43mself\u001B[39;49m\u001B[38;5;241;43m.\u001B[39;49m\u001B[43moptions\u001B[49m\u001B[38;5;241;43m.\u001B[39;49m\u001B[43mget\u001B[49m\u001B[43m(\u001B[49m\u001B[38;5;124;43m\"\u001B[39;49m\u001B[38;5;124;43mmemory_map\u001B[39;49m\u001B[38;5;124;43m\"\u001B[39;49m\u001B[43m,\u001B[49m\u001B[43m \u001B[49m\u001B[38;5;28;43;01mFalse\u001B[39;49;00m\u001B[43m)\u001B[49m\u001B[43m,\u001B[49m\n\u001B[1;32m   1886\u001B[0m \u001B[43m    \u001B[49m\u001B[43mis_text\u001B[49m\u001B[38;5;241;43m=\u001B[39;49m\u001B[43mis_text\u001B[49m\u001B[43m,\u001B[49m\n\u001B[1;32m   1887\u001B[0m \u001B[43m    \u001B[49m\u001B[43merrors\u001B[49m\u001B[38;5;241;43m=\u001B[39;49m\u001B[38;5;28;43mself\u001B[39;49m\u001B[38;5;241;43m.\u001B[39;49m\u001B[43moptions\u001B[49m\u001B[38;5;241;43m.\u001B[39;49m\u001B[43mget\u001B[49m\u001B[43m(\u001B[49m\u001B[38;5;124;43m\"\u001B[39;49m\u001B[38;5;124;43mencoding_errors\u001B[39;49m\u001B[38;5;124;43m\"\u001B[39;49m\u001B[43m,\u001B[49m\u001B[43m \u001B[49m\u001B[38;5;124;43m\"\u001B[39;49m\u001B[38;5;124;43mstrict\u001B[39;49m\u001B[38;5;124;43m\"\u001B[39;49m\u001B[43m)\u001B[49m\u001B[43m,\u001B[49m\n\u001B[1;32m   1888\u001B[0m \u001B[43m    \u001B[49m\u001B[43mstorage_options\u001B[49m\u001B[38;5;241;43m=\u001B[39;49m\u001B[38;5;28;43mself\u001B[39;49m\u001B[38;5;241;43m.\u001B[39;49m\u001B[43moptions\u001B[49m\u001B[38;5;241;43m.\u001B[39;49m\u001B[43mget\u001B[49m\u001B[43m(\u001B[49m\u001B[38;5;124;43m\"\u001B[39;49m\u001B[38;5;124;43mstorage_options\u001B[39;49m\u001B[38;5;124;43m\"\u001B[39;49m\u001B[43m,\u001B[49m\u001B[43m \u001B[49m\u001B[38;5;28;43;01mNone\u001B[39;49;00m\u001B[43m)\u001B[49m\u001B[43m,\u001B[49m\n\u001B[1;32m   1889\u001B[0m \u001B[43m\u001B[49m\u001B[43m)\u001B[49m\n\u001B[1;32m   1890\u001B[0m \u001B[38;5;28;01massert\u001B[39;00m \u001B[38;5;28mself\u001B[39m\u001B[38;5;241m.\u001B[39mhandles \u001B[38;5;129;01mis\u001B[39;00m \u001B[38;5;129;01mnot\u001B[39;00m \u001B[38;5;28;01mNone\u001B[39;00m\n\u001B[1;32m   1891\u001B[0m f \u001B[38;5;241m=\u001B[39m \u001B[38;5;28mself\u001B[39m\u001B[38;5;241m.\u001B[39mhandles\u001B[38;5;241m.\u001B[39mhandle\n",
      "File \u001B[0;32m~/anaconda3/envs/Histo_res/lib/python3.9/site-packages/pandas/io/common.py:873\u001B[0m, in \u001B[0;36mget_handle\u001B[0;34m(path_or_buf, mode, encoding, compression, memory_map, is_text, errors, storage_options)\u001B[0m\n\u001B[1;32m    868\u001B[0m \u001B[38;5;28;01melif\u001B[39;00m \u001B[38;5;28misinstance\u001B[39m(handle, \u001B[38;5;28mstr\u001B[39m):\n\u001B[1;32m    869\u001B[0m     \u001B[38;5;66;03m# Check whether the filename is to be opened in binary mode.\u001B[39;00m\n\u001B[1;32m    870\u001B[0m     \u001B[38;5;66;03m# Binary mode does not support 'encoding' and 'newline'.\u001B[39;00m\n\u001B[1;32m    871\u001B[0m     \u001B[38;5;28;01mif\u001B[39;00m ioargs\u001B[38;5;241m.\u001B[39mencoding \u001B[38;5;129;01mand\u001B[39;00m \u001B[38;5;124m\"\u001B[39m\u001B[38;5;124mb\u001B[39m\u001B[38;5;124m\"\u001B[39m \u001B[38;5;129;01mnot\u001B[39;00m \u001B[38;5;129;01min\u001B[39;00m ioargs\u001B[38;5;241m.\u001B[39mmode:\n\u001B[1;32m    872\u001B[0m         \u001B[38;5;66;03m# Encoding\u001B[39;00m\n\u001B[0;32m--> 873\u001B[0m         handle \u001B[38;5;241m=\u001B[39m \u001B[38;5;28;43mopen\u001B[39;49m\u001B[43m(\u001B[49m\n\u001B[1;32m    874\u001B[0m \u001B[43m            \u001B[49m\u001B[43mhandle\u001B[49m\u001B[43m,\u001B[49m\n\u001B[1;32m    875\u001B[0m \u001B[43m            \u001B[49m\u001B[43mioargs\u001B[49m\u001B[38;5;241;43m.\u001B[39;49m\u001B[43mmode\u001B[49m\u001B[43m,\u001B[49m\n\u001B[1;32m    876\u001B[0m \u001B[43m            \u001B[49m\u001B[43mencoding\u001B[49m\u001B[38;5;241;43m=\u001B[39;49m\u001B[43mioargs\u001B[49m\u001B[38;5;241;43m.\u001B[39;49m\u001B[43mencoding\u001B[49m\u001B[43m,\u001B[49m\n\u001B[1;32m    877\u001B[0m \u001B[43m            \u001B[49m\u001B[43merrors\u001B[49m\u001B[38;5;241;43m=\u001B[39;49m\u001B[43merrors\u001B[49m\u001B[43m,\u001B[49m\n\u001B[1;32m    878\u001B[0m \u001B[43m            \u001B[49m\u001B[43mnewline\u001B[49m\u001B[38;5;241;43m=\u001B[39;49m\u001B[38;5;124;43m\"\u001B[39;49m\u001B[38;5;124;43m\"\u001B[39;49m\u001B[43m,\u001B[49m\n\u001B[1;32m    879\u001B[0m \u001B[43m        \u001B[49m\u001B[43m)\u001B[49m\n\u001B[1;32m    880\u001B[0m     \u001B[38;5;28;01melse\u001B[39;00m:\n\u001B[1;32m    881\u001B[0m         \u001B[38;5;66;03m# Binary mode\u001B[39;00m\n\u001B[1;32m    882\u001B[0m         handle \u001B[38;5;241m=\u001B[39m \u001B[38;5;28mopen\u001B[39m(handle, ioargs\u001B[38;5;241m.\u001B[39mmode)\n",
      "\u001B[0;31mFileNotFoundError\u001B[0m: [Errno 2] No such file or directory: './data/processed/train.csv'"
     ]
    }
   ],
   "execution_count": 4
  },
  {
   "metadata": {
    "ExecuteTime": {
     "end_time": "2024-07-11T13:58:34.732550Z",
     "start_time": "2024-07-11T13:58:34.233905Z"
    }
   },
   "cell_type": "code",
   "source": [
    "model = DAE_KAN_Attention()\n",
    "# checkpoint = torch.load(\"histo-dae/go2j1m2y/checkpoints/epoch=3-step=9528.ckpt\")\n",
    "checkpoint = torch.load(\"histopathology/histo-dae/d8mmjonm/checkpoints/epoch=29-step=24415.ckpt\")\n"
   ],
   "id": "25e54dd5fb0f318c",
   "outputs": [],
   "execution_count": 2
  },
  {
   "metadata": {
    "ExecuteTime": {
     "end_time": "2024-07-11T13:58:34.740301Z",
     "start_time": "2024-07-11T13:58:34.733825Z"
    }
   },
   "cell_type": "code",
   "source": "checkpoint.keys()",
   "id": "55865bd883d043f5",
   "outputs": [
    {
     "data": {
      "text/plain": [
       "dict_keys(['epoch', 'global_step', 'pytorch-lightning_version', 'state_dict', 'loops', 'callbacks', 'optimizer_states', 'lr_schedulers'])"
      ]
     },
     "execution_count": 3,
     "metadata": {},
     "output_type": "execute_result"
    }
   ],
   "execution_count": 3
  },
  {
   "metadata": {
    "ExecuteTime": {
     "end_time": "2024-07-11T13:58:34.775834Z",
     "start_time": "2024-07-11T13:58:34.741809Z"
    }
   },
   "cell_type": "code",
   "source": "checkpoint['state_dict'].keys()",
   "id": "a65be6a3798e4897",
   "outputs": [
    {
     "data": {
      "text/plain": [
       "odict_keys(['model.ae_encoder.kan.convs.0.conv.base_weight', 'model.ae_encoder.kan.convs.0.conv.spline_weight', 'model.ae_encoder.kan.convs.0.conv.spline_scaler', 'model.ae_encoder.kan.convs.0.conv.grid', 'model.ae_encoder.encoder1.0.weight', 'model.ae_encoder.encoder1.0.bias', 'model.ae_encoder.encoder1.1.weight', 'model.ae_encoder.encoder1.1.bias', 'model.ae_encoder.encoder1.1.running_mean', 'model.ae_encoder.encoder1.1.running_var', 'model.ae_encoder.encoder1.1.num_batches_tracked', 'model.ae_encoder.encoder2.0.weight', 'model.ae_encoder.encoder2.0.bias', 'model.ae_encoder.encoder2.1.weight', 'model.ae_encoder.encoder2.1.bias', 'model.ae_encoder.encoder2.1.running_mean', 'model.ae_encoder.encoder2.1.running_var', 'model.ae_encoder.encoder2.1.num_batches_tracked', 'model.ae_encoder.encoder3.0.weight', 'model.ae_encoder.encoder3.0.bias', 'model.ae_encoder.encoder3.1.weight', 'model.ae_encoder.encoder3.1.bias', 'model.ae_encoder.encoder3.1.running_mean', 'model.ae_encoder.encoder3.1.running_var', 'model.ae_encoder.encoder3.1.num_batches_tracked', 'model.ae_encoder.ECA_Net.conv.weight', 'model.ae_encoder.decoder1.0.weight', 'model.ae_encoder.decoder1.0.bias', 'model.ae_encoder.decoder1.0.running_mean', 'model.ae_encoder.decoder1.0.running_var', 'model.ae_encoder.decoder1.0.num_batches_tracked', 'model.ae_encoder.decoder1.1.weight', 'model.ae_encoder.decoder1.1.bias', 'model.ae_encoder.decoder1.2.weight', 'model.ae_encoder.decoder1.2.bias', 'model.ae_encoder.decoder1.2.running_mean', 'model.ae_encoder.decoder1.2.running_var', 'model.ae_encoder.decoder1.2.num_batches_tracked', 'model.ae_encoder.decoder2.0.weight', 'model.ae_encoder.decoder2.0.bias', 'model.ae_encoder.decoder2.1.weight', 'model.ae_encoder.decoder2.1.bias', 'model.ae_encoder.decoder2.1.running_mean', 'model.ae_encoder.decoder2.1.running_var', 'model.ae_encoder.decoder2.1.num_batches_tracked', 'model.bottleneck.encoder1.0.weight', 'model.bottleneck.encoder1.0.bias', 'model.bottleneck.encoder1.1.weight', 'model.bottleneck.encoder1.1.bias', 'model.bottleneck.encoder1.1.running_mean', 'model.bottleneck.encoder1.1.running_var', 'model.bottleneck.encoder1.1.num_batches_tracked', 'model.bottleneck.attn1.channel_attn.mlp.0.weight', 'model.bottleneck.attn1.channel_attn.mlp.0.bias', 'model.bottleneck.attn1.channel_attn.mlp.2.weight', 'model.bottleneck.attn1.channel_attn.mlp.2.bias', 'model.bottleneck.attn1.channel_attn.bn.weight', 'model.bottleneck.attn1.channel_attn.bn.bias', 'model.bottleneck.attn1.channel_attn.bn.running_mean', 'model.bottleneck.attn1.channel_attn.bn.running_var', 'model.bottleneck.attn1.channel_attn.bn.num_batches_tracked', 'model.bottleneck.attn1.spatial_attn.conv1.weight', 'model.bottleneck.attn1.spatial_attn.conv1.bias', 'model.bottleneck.attn1.spatial_attn.conv2.0.weight', 'model.bottleneck.attn1.spatial_attn.conv2.0.bias', 'model.bottleneck.attn1.spatial_attn.conv2.1.weight', 'model.bottleneck.attn1.spatial_attn.conv2.1.bias', 'model.bottleneck.attn1.spatial_attn.conv2.1.running_mean', 'model.bottleneck.attn1.spatial_attn.conv2.1.running_var', 'model.bottleneck.attn1.spatial_attn.conv2.1.num_batches_tracked', 'model.bottleneck.attn1.spatial_attn.conv2.3.weight', 'model.bottleneck.attn1.spatial_attn.conv2.3.bias', 'model.bottleneck.attn1.spatial_attn.conv2.4.weight', 'model.bottleneck.attn1.spatial_attn.conv2.4.bias', 'model.bottleneck.attn1.spatial_attn.conv2.4.running_mean', 'model.bottleneck.attn1.spatial_attn.conv2.4.running_var', 'model.bottleneck.attn1.spatial_attn.conv2.4.num_batches_tracked', 'model.bottleneck.attn1.spatial_attn.conv3.weight', 'model.bottleneck.attn1.spatial_attn.conv3.bias', 'model.bottleneck.attn1.spatial_attn.bn.weight', 'model.bottleneck.attn1.spatial_attn.bn.bias', 'model.bottleneck.attn1.spatial_attn.bn.running_mean', 'model.bottleneck.attn1.spatial_attn.bn.running_var', 'model.bottleneck.attn1.spatial_attn.bn.num_batches_tracked', 'model.bottleneck.encoder2.0.weight', 'model.bottleneck.encoder2.0.bias', 'model.bottleneck.encoder2.1.weight', 'model.bottleneck.encoder2.1.bias', 'model.bottleneck.encoder2.1.running_mean', 'model.bottleneck.encoder2.1.running_var', 'model.bottleneck.encoder2.1.num_batches_tracked', 'model.bottleneck.attn2.channel_attn.mlp.0.weight', 'model.bottleneck.attn2.channel_attn.mlp.0.bias', 'model.bottleneck.attn2.channel_attn.mlp.2.weight', 'model.bottleneck.attn2.channel_attn.mlp.2.bias', 'model.bottleneck.attn2.channel_attn.bn.weight', 'model.bottleneck.attn2.channel_attn.bn.bias', 'model.bottleneck.attn2.channel_attn.bn.running_mean', 'model.bottleneck.attn2.channel_attn.bn.running_var', 'model.bottleneck.attn2.channel_attn.bn.num_batches_tracked', 'model.bottleneck.attn2.spatial_attn.conv1.weight', 'model.bottleneck.attn2.spatial_attn.conv1.bias', 'model.bottleneck.attn2.spatial_attn.conv2.0.weight', 'model.bottleneck.attn2.spatial_attn.conv2.0.bias', 'model.bottleneck.attn2.spatial_attn.conv2.1.weight', 'model.bottleneck.attn2.spatial_attn.conv2.1.bias', 'model.bottleneck.attn2.spatial_attn.conv2.1.running_mean', 'model.bottleneck.attn2.spatial_attn.conv2.1.running_var', 'model.bottleneck.attn2.spatial_attn.conv2.1.num_batches_tracked', 'model.bottleneck.attn2.spatial_attn.conv2.3.weight', 'model.bottleneck.attn2.spatial_attn.conv2.3.bias', 'model.bottleneck.attn2.spatial_attn.conv2.4.weight', 'model.bottleneck.attn2.spatial_attn.conv2.4.bias', 'model.bottleneck.attn2.spatial_attn.conv2.4.running_mean', 'model.bottleneck.attn2.spatial_attn.conv2.4.running_var', 'model.bottleneck.attn2.spatial_attn.conv2.4.num_batches_tracked', 'model.bottleneck.attn2.spatial_attn.conv3.weight', 'model.bottleneck.attn2.spatial_attn.conv3.bias', 'model.bottleneck.attn2.spatial_attn.bn.weight', 'model.bottleneck.attn2.spatial_attn.bn.bias', 'model.bottleneck.attn2.spatial_attn.bn.running_mean', 'model.bottleneck.attn2.spatial_attn.bn.running_var', 'model.bottleneck.attn2.spatial_attn.bn.num_batches_tracked', 'model.bottleneck.decoder.0.weight', 'model.bottleneck.decoder.0.bias', 'model.bottleneck.decoder.1.weight', 'model.bottleneck.decoder.1.bias', 'model.bottleneck.decoder.1.running_mean', 'model.bottleneck.decoder.1.running_var', 'model.bottleneck.decoder.1.num_batches_tracked', 'model.ae_decoder.kan.convs.0.conv.base_weight', 'model.ae_decoder.kan.convs.0.conv.spline_weight', 'model.ae_decoder.kan.convs.0.conv.spline_scaler', 'model.ae_decoder.kan.convs.0.conv.grid', 'model.ae_decoder.encoder1.0.weight', 'model.ae_decoder.encoder1.0.bias', 'model.ae_decoder.encoder1.1.weight', 'model.ae_decoder.encoder1.1.bias', 'model.ae_decoder.encoder1.1.running_mean', 'model.ae_decoder.encoder1.1.running_var', 'model.ae_decoder.encoder1.1.num_batches_tracked', 'model.ae_decoder.encoder2.0.weight', 'model.ae_decoder.encoder2.0.bias', 'model.ae_decoder.encoder2.1.weight', 'model.ae_decoder.encoder2.1.bias', 'model.ae_decoder.encoder2.1.running_mean', 'model.ae_decoder.encoder2.1.running_var', 'model.ae_decoder.encoder2.1.num_batches_tracked', 'model.ae_decoder.encoder3.0.weight', 'model.ae_decoder.encoder3.0.bias', 'model.ae_decoder.encoder3.1.weight', 'model.ae_decoder.encoder3.1.bias', 'model.ae_decoder.encoder3.1.running_mean', 'model.ae_decoder.encoder3.1.running_var', 'model.ae_decoder.encoder3.1.num_batches_tracked', 'model.ae_decoder.ECA_Net.conv.weight', 'model.ae_decoder.decoder1.0.weight', 'model.ae_decoder.decoder1.0.bias', 'model.ae_decoder.decoder1.0.running_mean', 'model.ae_decoder.decoder1.0.running_var', 'model.ae_decoder.decoder1.0.num_batches_tracked', 'model.ae_decoder.decoder1.1.weight', 'model.ae_decoder.decoder1.1.bias', 'model.ae_decoder.decoder1.2.weight', 'model.ae_decoder.decoder1.2.bias', 'model.ae_decoder.decoder1.2.running_mean', 'model.ae_decoder.decoder1.2.running_var', 'model.ae_decoder.decoder1.2.num_batches_tracked', 'model.ae_decoder.decoder2.0.weight', 'model.ae_decoder.decoder2.0.bias', 'model.ae_decoder.decoder2.1.weight', 'model.ae_decoder.decoder2.1.bias', 'model.ae_decoder.decoder2.1.running_mean', 'model.ae_decoder.decoder2.1.running_var', 'model.ae_decoder.decoder2.1.num_batches_tracked', 'model.ae_decoder.Output_Layer.0.weight', 'model.ae_decoder.Output_Layer.0.bias', 'model.ae_decoder.Output_Layer.1.weight', 'model.ae_decoder.Output_Layer.1.bias', 'model.ae_decoder.Output_Layer.1.running_mean', 'model.ae_decoder.Output_Layer.1.running_var', 'model.ae_decoder.Output_Layer.1.num_batches_tracked', 'model.ae_decoder.reconstructtion.convs.0.conv.base_weight', 'model.ae_decoder.reconstructtion.convs.0.conv.spline_weight', 'model.ae_decoder.reconstructtion.convs.0.conv.spline_scaler', 'model.ae_decoder.reconstructtion.convs.0.conv.grid'])"
      ]
     },
     "execution_count": 4,
     "metadata": {},
     "output_type": "execute_result"
    }
   ],
   "execution_count": 4
  },
  {
   "metadata": {
    "ExecuteTime": {
     "end_time": "2024-07-11T13:58:34.809243Z",
     "start_time": "2024-07-11T13:58:34.779337Z"
    }
   },
   "cell_type": "code",
   "source": [
    "new_state_dict = {}\n",
    "for key, value in checkpoint['state_dict'].items():\n",
    "    new_key = key.replace(\"model.\", \"\")\n",
    "    new_state_dict[new_key] = value\n",
    "\n",
    "# Load the modified state dict into the model\n",
    "model.load_state_dict(new_state_dict)"
   ],
   "id": "2b227a0636a92f9f",
   "outputs": [
    {
     "data": {
      "text/plain": [
       "<All keys matched successfully>"
      ]
     },
     "execution_count": 5,
     "metadata": {},
     "output_type": "execute_result"
    }
   ],
   "execution_count": 5
  },
  {
   "metadata": {
    "ExecuteTime": {
     "end_time": "2024-07-11T13:58:34.825784Z",
     "start_time": "2024-07-11T13:58:34.810954Z"
    }
   },
   "cell_type": "code",
   "source": [
    "from pprint import pprint as pp\n",
    "\n",
    "pp(checkpoint['state_dict'].keys())"
   ],
   "id": "5af80924ce96bbe1",
   "outputs": [
    {
     "name": "stdout",
     "output_type": "stream",
     "text": [
      "odict_keys(['model.ae_encoder.kan.convs.0.conv.base_weight', 'model.ae_encoder.kan.convs.0.conv.spline_weight', 'model.ae_encoder.kan.convs.0.conv.spline_scaler', 'model.ae_encoder.kan.convs.0.conv.grid', 'model.ae_encoder.encoder1.0.weight', 'model.ae_encoder.encoder1.0.bias', 'model.ae_encoder.encoder1.1.weight', 'model.ae_encoder.encoder1.1.bias', 'model.ae_encoder.encoder1.1.running_mean', 'model.ae_encoder.encoder1.1.running_var', 'model.ae_encoder.encoder1.1.num_batches_tracked', 'model.ae_encoder.encoder2.0.weight', 'model.ae_encoder.encoder2.0.bias', 'model.ae_encoder.encoder2.1.weight', 'model.ae_encoder.encoder2.1.bias', 'model.ae_encoder.encoder2.1.running_mean', 'model.ae_encoder.encoder2.1.running_var', 'model.ae_encoder.encoder2.1.num_batches_tracked', 'model.ae_encoder.encoder3.0.weight', 'model.ae_encoder.encoder3.0.bias', 'model.ae_encoder.encoder3.1.weight', 'model.ae_encoder.encoder3.1.bias', 'model.ae_encoder.encoder3.1.running_mean', 'model.ae_encoder.encoder3.1.running_var', 'model.ae_encoder.encoder3.1.num_batches_tracked', 'model.ae_encoder.ECA_Net.conv.weight', 'model.ae_encoder.decoder1.0.weight', 'model.ae_encoder.decoder1.0.bias', 'model.ae_encoder.decoder1.0.running_mean', 'model.ae_encoder.decoder1.0.running_var', 'model.ae_encoder.decoder1.0.num_batches_tracked', 'model.ae_encoder.decoder1.1.weight', 'model.ae_encoder.decoder1.1.bias', 'model.ae_encoder.decoder1.2.weight', 'model.ae_encoder.decoder1.2.bias', 'model.ae_encoder.decoder1.2.running_mean', 'model.ae_encoder.decoder1.2.running_var', 'model.ae_encoder.decoder1.2.num_batches_tracked', 'model.ae_encoder.decoder2.0.weight', 'model.ae_encoder.decoder2.0.bias', 'model.ae_encoder.decoder2.1.weight', 'model.ae_encoder.decoder2.1.bias', 'model.ae_encoder.decoder2.1.running_mean', 'model.ae_encoder.decoder2.1.running_var', 'model.ae_encoder.decoder2.1.num_batches_tracked', 'model.bottleneck.encoder1.0.weight', 'model.bottleneck.encoder1.0.bias', 'model.bottleneck.encoder1.1.weight', 'model.bottleneck.encoder1.1.bias', 'model.bottleneck.encoder1.1.running_mean', 'model.bottleneck.encoder1.1.running_var', 'model.bottleneck.encoder1.1.num_batches_tracked', 'model.bottleneck.attn1.channel_attn.mlp.0.weight', 'model.bottleneck.attn1.channel_attn.mlp.0.bias', 'model.bottleneck.attn1.channel_attn.mlp.2.weight', 'model.bottleneck.attn1.channel_attn.mlp.2.bias', 'model.bottleneck.attn1.channel_attn.bn.weight', 'model.bottleneck.attn1.channel_attn.bn.bias', 'model.bottleneck.attn1.channel_attn.bn.running_mean', 'model.bottleneck.attn1.channel_attn.bn.running_var', 'model.bottleneck.attn1.channel_attn.bn.num_batches_tracked', 'model.bottleneck.attn1.spatial_attn.conv1.weight', 'model.bottleneck.attn1.spatial_attn.conv1.bias', 'model.bottleneck.attn1.spatial_attn.conv2.0.weight', 'model.bottleneck.attn1.spatial_attn.conv2.0.bias', 'model.bottleneck.attn1.spatial_attn.conv2.1.weight', 'model.bottleneck.attn1.spatial_attn.conv2.1.bias', 'model.bottleneck.attn1.spatial_attn.conv2.1.running_mean', 'model.bottleneck.attn1.spatial_attn.conv2.1.running_var', 'model.bottleneck.attn1.spatial_attn.conv2.1.num_batches_tracked', 'model.bottleneck.attn1.spatial_attn.conv2.3.weight', 'model.bottleneck.attn1.spatial_attn.conv2.3.bias', 'model.bottleneck.attn1.spatial_attn.conv2.4.weight', 'model.bottleneck.attn1.spatial_attn.conv2.4.bias', 'model.bottleneck.attn1.spatial_attn.conv2.4.running_mean', 'model.bottleneck.attn1.spatial_attn.conv2.4.running_var', 'model.bottleneck.attn1.spatial_attn.conv2.4.num_batches_tracked', 'model.bottleneck.attn1.spatial_attn.conv3.weight', 'model.bottleneck.attn1.spatial_attn.conv3.bias', 'model.bottleneck.attn1.spatial_attn.bn.weight', 'model.bottleneck.attn1.spatial_attn.bn.bias', 'model.bottleneck.attn1.spatial_attn.bn.running_mean', 'model.bottleneck.attn1.spatial_attn.bn.running_var', 'model.bottleneck.attn1.spatial_attn.bn.num_batches_tracked', 'model.bottleneck.encoder2.0.weight', 'model.bottleneck.encoder2.0.bias', 'model.bottleneck.encoder2.1.weight', 'model.bottleneck.encoder2.1.bias', 'model.bottleneck.encoder2.1.running_mean', 'model.bottleneck.encoder2.1.running_var', 'model.bottleneck.encoder2.1.num_batches_tracked', 'model.bottleneck.attn2.channel_attn.mlp.0.weight', 'model.bottleneck.attn2.channel_attn.mlp.0.bias', 'model.bottleneck.attn2.channel_attn.mlp.2.weight', 'model.bottleneck.attn2.channel_attn.mlp.2.bias', 'model.bottleneck.attn2.channel_attn.bn.weight', 'model.bottleneck.attn2.channel_attn.bn.bias', 'model.bottleneck.attn2.channel_attn.bn.running_mean', 'model.bottleneck.attn2.channel_attn.bn.running_var', 'model.bottleneck.attn2.channel_attn.bn.num_batches_tracked', 'model.bottleneck.attn2.spatial_attn.conv1.weight', 'model.bottleneck.attn2.spatial_attn.conv1.bias', 'model.bottleneck.attn2.spatial_attn.conv2.0.weight', 'model.bottleneck.attn2.spatial_attn.conv2.0.bias', 'model.bottleneck.attn2.spatial_attn.conv2.1.weight', 'model.bottleneck.attn2.spatial_attn.conv2.1.bias', 'model.bottleneck.attn2.spatial_attn.conv2.1.running_mean', 'model.bottleneck.attn2.spatial_attn.conv2.1.running_var', 'model.bottleneck.attn2.spatial_attn.conv2.1.num_batches_tracked', 'model.bottleneck.attn2.spatial_attn.conv2.3.weight', 'model.bottleneck.attn2.spatial_attn.conv2.3.bias', 'model.bottleneck.attn2.spatial_attn.conv2.4.weight', 'model.bottleneck.attn2.spatial_attn.conv2.4.bias', 'model.bottleneck.attn2.spatial_attn.conv2.4.running_mean', 'model.bottleneck.attn2.spatial_attn.conv2.4.running_var', 'model.bottleneck.attn2.spatial_attn.conv2.4.num_batches_tracked', 'model.bottleneck.attn2.spatial_attn.conv3.weight', 'model.bottleneck.attn2.spatial_attn.conv3.bias', 'model.bottleneck.attn2.spatial_attn.bn.weight', 'model.bottleneck.attn2.spatial_attn.bn.bias', 'model.bottleneck.attn2.spatial_attn.bn.running_mean', 'model.bottleneck.attn2.spatial_attn.bn.running_var', 'model.bottleneck.attn2.spatial_attn.bn.num_batches_tracked', 'model.bottleneck.decoder.0.weight', 'model.bottleneck.decoder.0.bias', 'model.bottleneck.decoder.1.weight', 'model.bottleneck.decoder.1.bias', 'model.bottleneck.decoder.1.running_mean', 'model.bottleneck.decoder.1.running_var', 'model.bottleneck.decoder.1.num_batches_tracked', 'model.ae_decoder.kan.convs.0.conv.base_weight', 'model.ae_decoder.kan.convs.0.conv.spline_weight', 'model.ae_decoder.kan.convs.0.conv.spline_scaler', 'model.ae_decoder.kan.convs.0.conv.grid', 'model.ae_decoder.encoder1.0.weight', 'model.ae_decoder.encoder1.0.bias', 'model.ae_decoder.encoder1.1.weight', 'model.ae_decoder.encoder1.1.bias', 'model.ae_decoder.encoder1.1.running_mean', 'model.ae_decoder.encoder1.1.running_var', 'model.ae_decoder.encoder1.1.num_batches_tracked', 'model.ae_decoder.encoder2.0.weight', 'model.ae_decoder.encoder2.0.bias', 'model.ae_decoder.encoder2.1.weight', 'model.ae_decoder.encoder2.1.bias', 'model.ae_decoder.encoder2.1.running_mean', 'model.ae_decoder.encoder2.1.running_var', 'model.ae_decoder.encoder2.1.num_batches_tracked', 'model.ae_decoder.encoder3.0.weight', 'model.ae_decoder.encoder3.0.bias', 'model.ae_decoder.encoder3.1.weight', 'model.ae_decoder.encoder3.1.bias', 'model.ae_decoder.encoder3.1.running_mean', 'model.ae_decoder.encoder3.1.running_var', 'model.ae_decoder.encoder3.1.num_batches_tracked', 'model.ae_decoder.ECA_Net.conv.weight', 'model.ae_decoder.decoder1.0.weight', 'model.ae_decoder.decoder1.0.bias', 'model.ae_decoder.decoder1.0.running_mean', 'model.ae_decoder.decoder1.0.running_var', 'model.ae_decoder.decoder1.0.num_batches_tracked', 'model.ae_decoder.decoder1.1.weight', 'model.ae_decoder.decoder1.1.bias', 'model.ae_decoder.decoder1.2.weight', 'model.ae_decoder.decoder1.2.bias', 'model.ae_decoder.decoder1.2.running_mean', 'model.ae_decoder.decoder1.2.running_var', 'model.ae_decoder.decoder1.2.num_batches_tracked', 'model.ae_decoder.decoder2.0.weight', 'model.ae_decoder.decoder2.0.bias', 'model.ae_decoder.decoder2.1.weight', 'model.ae_decoder.decoder2.1.bias', 'model.ae_decoder.decoder2.1.running_mean', 'model.ae_decoder.decoder2.1.running_var', 'model.ae_decoder.decoder2.1.num_batches_tracked', 'model.ae_decoder.Output_Layer.0.weight', 'model.ae_decoder.Output_Layer.0.bias', 'model.ae_decoder.Output_Layer.1.weight', 'model.ae_decoder.Output_Layer.1.bias', 'model.ae_decoder.Output_Layer.1.running_mean', 'model.ae_decoder.Output_Layer.1.running_var', 'model.ae_decoder.Output_Layer.1.num_batches_tracked', 'model.ae_decoder.reconstructtion.convs.0.conv.base_weight', 'model.ae_decoder.reconstructtion.convs.0.conv.spline_weight', 'model.ae_decoder.reconstructtion.convs.0.conv.spline_scaler', 'model.ae_decoder.reconstructtion.convs.0.conv.grid'])\n"
     ]
    }
   ],
   "execution_count": 6
  },
  {
   "metadata": {
    "ExecuteTime": {
     "end_time": "2024-07-11T14:12:39.589362Z",
     "start_time": "2024-07-11T14:12:25.124441Z"
    }
   },
   "cell_type": "code",
   "source": "dft = pd.read_csv('embeddings.csv')",
   "id": "d0f087b811110976",
   "outputs": [],
   "execution_count": 43
  },
  {
   "metadata": {
    "ExecuteTime": {
     "end_time": "2024-07-11T14:12:39.616782Z",
     "start_time": "2024-07-11T14:12:39.590927Z"
    }
   },
   "cell_type": "code",
   "source": "label = pd.read_csv('../../../data/processed/OHEheparfix.csv')['classes']",
   "id": "3809bf645a594c10",
   "outputs": [],
   "execution_count": 44
  },
  {
   "metadata": {
    "ExecuteTime": {
     "end_time": "2024-07-11T14:12:39.622246Z",
     "start_time": "2024-07-11T14:12:39.618508Z"
    }
   },
   "cell_type": "code",
   "source": "dftr['label'] = label.values",
   "id": "96f62b285a18cce9",
   "outputs": [],
   "execution_count": 45
  },
  {
   "metadata": {
    "ExecuteTime": {
     "end_time": "2024-07-11T14:14:11.504059Z",
     "start_time": "2024-07-11T14:13:05.467009Z"
    }
   },
   "cell_type": "code",
   "source": "dftr.to_csv('DAE_Embeddings.csv', index=False)",
   "id": "88bda8d750fb304",
   "outputs": [],
   "execution_count": 47
  },
  {
   "metadata": {
    "ExecuteTime": {
     "end_time": "2024-07-11T14:14:34.532483Z",
     "start_time": "2024-07-11T14:14:34.505491Z"
    }
   },
   "cell_type": "code",
   "source": "dftr.he",
   "id": "d3ed0c6a04a44ef",
   "outputs": [
    {
     "data": {
      "text/plain": [
       "          0         1         2         3         4         5         6  \\\n",
       "0 -0.508204  0.622806  0.963754  1.194291  0.409287  0.537334  1.534004   \n",
       "1 -0.606001  1.883347  0.765502  0.952280  2.456968  2.221480  1.554836   \n",
       "2 -0.186743  0.752017  1.203069  0.962292  0.793253  1.775011  2.631131   \n",
       "3 -0.391148  0.844790  0.851928  1.039518  1.263765  0.471498  0.756313   \n",
       "4 -0.405957  1.519081  0.034942  0.742681  0.784112  0.194307  0.458365   \n",
       "\n",
       "          7         8         9  ...      4087      4088      4089      4090  \\\n",
       "0  0.622889  0.647555  1.055628  ...  0.155102 -0.088649 -0.526499 -0.947276   \n",
       "1  0.931303  0.939782  1.231403  ...  4.324496  2.839384  2.212631  2.402034   \n",
       "2  0.534492  1.263626  0.479104  ...  2.658668  2.115646  0.756491  1.330351   \n",
       "3  0.812012  0.356798  0.378331  ...  1.729291  3.512805  0.474528  0.291598   \n",
       "4  0.387138 -0.251965 -0.117958  ... -0.862648  0.615942  0.299208  0.181120   \n",
       "\n",
       "       4091      4092      4093      4094      4095  label  \n",
       "0  0.008985  2.977365  0.273558  0.934428  0.711128      3  \n",
       "1  4.629514  2.531396  1.919847  2.175018  1.355503      3  \n",
       "2  2.622540  1.608500  2.752142  4.434757  4.799832      3  \n",
       "3  0.561205  1.406523  0.627154 -1.026968 -0.592155      3  \n",
       "4  0.125456  1.014925  0.293138 -1.050816 -1.000228      3  \n",
       "\n",
       "[5 rows x 4097 columns]"
      ],
      "text/html": [
       "<div>\n",
       "<style scoped>\n",
       "    .dataframe tbody tr th:only-of-type {\n",
       "        vertical-align: middle;\n",
       "    }\n",
       "\n",
       "    .dataframe tbody tr th {\n",
       "        vertical-align: top;\n",
       "    }\n",
       "\n",
       "    .dataframe thead th {\n",
       "        text-align: right;\n",
       "    }\n",
       "</style>\n",
       "<table border=\"1\" class=\"dataframe\">\n",
       "  <thead>\n",
       "    <tr style=\"text-align: right;\">\n",
       "      <th></th>\n",
       "      <th>0</th>\n",
       "      <th>1</th>\n",
       "      <th>2</th>\n",
       "      <th>3</th>\n",
       "      <th>4</th>\n",
       "      <th>5</th>\n",
       "      <th>6</th>\n",
       "      <th>7</th>\n",
       "      <th>8</th>\n",
       "      <th>9</th>\n",
       "      <th>...</th>\n",
       "      <th>4087</th>\n",
       "      <th>4088</th>\n",
       "      <th>4089</th>\n",
       "      <th>4090</th>\n",
       "      <th>4091</th>\n",
       "      <th>4092</th>\n",
       "      <th>4093</th>\n",
       "      <th>4094</th>\n",
       "      <th>4095</th>\n",
       "      <th>label</th>\n",
       "    </tr>\n",
       "  </thead>\n",
       "  <tbody>\n",
       "    <tr>\n",
       "      <th>0</th>\n",
       "      <td>-0.508204</td>\n",
       "      <td>0.622806</td>\n",
       "      <td>0.963754</td>\n",
       "      <td>1.194291</td>\n",
       "      <td>0.409287</td>\n",
       "      <td>0.537334</td>\n",
       "      <td>1.534004</td>\n",
       "      <td>0.622889</td>\n",
       "      <td>0.647555</td>\n",
       "      <td>1.055628</td>\n",
       "      <td>...</td>\n",
       "      <td>0.155102</td>\n",
       "      <td>-0.088649</td>\n",
       "      <td>-0.526499</td>\n",
       "      <td>-0.947276</td>\n",
       "      <td>0.008985</td>\n",
       "      <td>2.977365</td>\n",
       "      <td>0.273558</td>\n",
       "      <td>0.934428</td>\n",
       "      <td>0.711128</td>\n",
       "      <td>3</td>\n",
       "    </tr>\n",
       "    <tr>\n",
       "      <th>1</th>\n",
       "      <td>-0.606001</td>\n",
       "      <td>1.883347</td>\n",
       "      <td>0.765502</td>\n",
       "      <td>0.952280</td>\n",
       "      <td>2.456968</td>\n",
       "      <td>2.221480</td>\n",
       "      <td>1.554836</td>\n",
       "      <td>0.931303</td>\n",
       "      <td>0.939782</td>\n",
       "      <td>1.231403</td>\n",
       "      <td>...</td>\n",
       "      <td>4.324496</td>\n",
       "      <td>2.839384</td>\n",
       "      <td>2.212631</td>\n",
       "      <td>2.402034</td>\n",
       "      <td>4.629514</td>\n",
       "      <td>2.531396</td>\n",
       "      <td>1.919847</td>\n",
       "      <td>2.175018</td>\n",
       "      <td>1.355503</td>\n",
       "      <td>3</td>\n",
       "    </tr>\n",
       "    <tr>\n",
       "      <th>2</th>\n",
       "      <td>-0.186743</td>\n",
       "      <td>0.752017</td>\n",
       "      <td>1.203069</td>\n",
       "      <td>0.962292</td>\n",
       "      <td>0.793253</td>\n",
       "      <td>1.775011</td>\n",
       "      <td>2.631131</td>\n",
       "      <td>0.534492</td>\n",
       "      <td>1.263626</td>\n",
       "      <td>0.479104</td>\n",
       "      <td>...</td>\n",
       "      <td>2.658668</td>\n",
       "      <td>2.115646</td>\n",
       "      <td>0.756491</td>\n",
       "      <td>1.330351</td>\n",
       "      <td>2.622540</td>\n",
       "      <td>1.608500</td>\n",
       "      <td>2.752142</td>\n",
       "      <td>4.434757</td>\n",
       "      <td>4.799832</td>\n",
       "      <td>3</td>\n",
       "    </tr>\n",
       "    <tr>\n",
       "      <th>3</th>\n",
       "      <td>-0.391148</td>\n",
       "      <td>0.844790</td>\n",
       "      <td>0.851928</td>\n",
       "      <td>1.039518</td>\n",
       "      <td>1.263765</td>\n",
       "      <td>0.471498</td>\n",
       "      <td>0.756313</td>\n",
       "      <td>0.812012</td>\n",
       "      <td>0.356798</td>\n",
       "      <td>0.378331</td>\n",
       "      <td>...</td>\n",
       "      <td>1.729291</td>\n",
       "      <td>3.512805</td>\n",
       "      <td>0.474528</td>\n",
       "      <td>0.291598</td>\n",
       "      <td>0.561205</td>\n",
       "      <td>1.406523</td>\n",
       "      <td>0.627154</td>\n",
       "      <td>-1.026968</td>\n",
       "      <td>-0.592155</td>\n",
       "      <td>3</td>\n",
       "    </tr>\n",
       "    <tr>\n",
       "      <th>4</th>\n",
       "      <td>-0.405957</td>\n",
       "      <td>1.519081</td>\n",
       "      <td>0.034942</td>\n",
       "      <td>0.742681</td>\n",
       "      <td>0.784112</td>\n",
       "      <td>0.194307</td>\n",
       "      <td>0.458365</td>\n",
       "      <td>0.387138</td>\n",
       "      <td>-0.251965</td>\n",
       "      <td>-0.117958</td>\n",
       "      <td>...</td>\n",
       "      <td>-0.862648</td>\n",
       "      <td>0.615942</td>\n",
       "      <td>0.299208</td>\n",
       "      <td>0.181120</td>\n",
       "      <td>0.125456</td>\n",
       "      <td>1.014925</td>\n",
       "      <td>0.293138</td>\n",
       "      <td>-1.050816</td>\n",
       "      <td>-1.000228</td>\n",
       "      <td>3</td>\n",
       "    </tr>\n",
       "  </tbody>\n",
       "</table>\n",
       "<p>5 rows × 4097 columns</p>\n",
       "</div>"
      ]
     },
     "execution_count": 49,
     "metadata": {},
     "output_type": "execute_result"
    }
   ],
   "execution_count": 49
  },
  {
   "metadata": {
    "ExecuteTime": {
     "end_time": "2024-07-11T14:00:05.307296Z",
     "start_time": "2024-07-11T14:00:05.301575Z"
    }
   },
   "cell_type": "code",
   "source": "set(train_ds.y.tolist())",
   "id": "b840fecb1811cbdc",
   "outputs": [
    {
     "data": {
      "text/plain": [
       "{0.0, 1.0}"
      ]
     },
     "execution_count": 22,
     "metadata": {},
     "output_type": "execute_result"
    }
   ],
   "execution_count": 22
  },
  {
   "metadata": {
    "ExecuteTime": {
     "end_time": "2024-07-11T13:58:49.031916Z",
     "start_time": "2024-07-11T13:58:48.992001Z"
    }
   },
   "cell_type": "code",
   "source": "# dftr['label'] =",
   "id": "a82665c6e23484d2",
   "outputs": [],
   "execution_count": 11
  }
 ],
 "metadata": {
  "kernelspec": {
   "display_name": "Python 3",
   "language": "python",
   "name": "python3"
  },
  "language_info": {
   "codemirror_mode": {
    "name": "ipython",
    "version": 2
   },
   "file_extension": ".py",
   "mimetype": "text/x-python",
   "name": "python",
   "nbconvert_exporter": "python",
   "pygments_lexer": "ipython2",
   "version": "2.7.6"
  }
 },
 "nbformat": 4,
 "nbformat_minor": 5
}
