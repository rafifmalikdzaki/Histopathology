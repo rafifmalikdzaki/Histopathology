{
 "cells": [
  {
   "cell_type": "code",
   "id": "initial_id",
   "metadata": {
    "collapsed": true
   },
   "source": "import pandas as pd",
   "outputs": [],
   "execution_count": null
  },
  {
   "metadata": {},
   "cell_type": "code",
   "source": "!pwd",
   "id": "7158c368bda79137",
   "outputs": [],
   "execution_count": null
  },
  {
   "metadata": {},
   "cell_type": "code",
   "source": [
    "ANNOT_PATH = '../data/interim/HistoHeparTiled.csv'\n",
    "IMG_PATH = '../data/interim/tiles_preproc/'"
   ],
   "id": "8472b3e9cbb4a1f8",
   "outputs": [],
   "execution_count": null
  },
  {
   "metadata": {},
   "cell_type": "code",
   "source": [
    "ann = pd.read_csv(ANNOT_PATH)\n",
    "ann"
   ],
   "id": "2d05c2539b7fe218",
   "outputs": [],
   "execution_count": null
  },
  {
   "metadata": {},
   "cell_type": "code",
   "source": [
    "from pprint import pprint\n",
    "pprint(ann.Image.unique())"
   ],
   "id": "49ededf31fddd1fd",
   "outputs": [],
   "execution_count": null
  },
  {
   "metadata": {
    "ExecuteTime": {
     "end_time": "2024-05-15T11:54:08.693624Z",
     "start_time": "2024-05-15T11:54:08.685520Z"
    }
   },
   "cell_type": "code",
   "source": "ann.Image",
   "id": "19cdfd16af6c3aa7",
   "outputs": [
    {
     "data": {
      "text/plain": [
       "0       Hepar-HFDA151X10-2_T00.tiff\n",
       "1       Hepar-HFDA151X10-2_T01.tiff\n",
       "2       Hepar-HFDA153X10-1_T11.tiff\n",
       "3       Hepar-HFDA151X10-2_T11.tiff\n",
       "4       Hepar-HFDA151X10-1_T00.tiff\n",
       "                   ...             \n",
       "1171     HeparNDA25.1400x3_T11.tiff\n",
       "1172      HeparNDA25.1400x_T12.tiff\n",
       "1173      HeparNDA25.3400x_T01.tiff\n",
       "1174      HeparNDA25.2400x_T12.tiff\n",
       "1175      HeparNDA25.1400x_T11.tiff\n",
       "Name: Image, Length: 1176, dtype: object"
      ]
     },
     "execution_count": 128,
     "metadata": {},
     "output_type": "execute_result"
    }
   ],
   "execution_count": 128
  },
  {
   "metadata": {},
   "cell_type": "markdown",
   "source": "# Annot Code",
   "id": "38578393cc1c048b"
  },
  {
   "metadata": {
    "ExecuteTime": {
     "end_time": "2024-05-15T12:04:13.805792Z",
     "start_time": "2024-05-15T12:04:13.207789Z"
    }
   },
   "cell_type": "code",
   "source": [
    "import re\n",
    "\n",
    "def extract_subtreatment(image_name):\n",
    "    \"\"\"Extracts the subtreatment category from the image name, excluding numbers after the period.\"\"\"\n",
    "\n",
    "    subtreatment_patterns = {\n",
    "        r\"HFDA0\": \"HFDA0\",\n",
    "        r\"HFDA5\" : \"HFDA5\",\n",
    "        r\"HFD101\": \"HFD10\",\n",
    "        r\"HFD15\": \"HFD15\",\n",
    "        r\"HFD20\": \"HFD20\",\n",
    "        r\"HFD25\": \"HFD25\",\n",
    "        r\"HFDNaCl\": \"HFDNaCl\",        \n",
    "        r\"HFDSIMV\": \"HFDSimvastatin\", \n",
    "        r\"normal\": \"normal\",        \n",
    "        r\"NDA25\": \"NDA25\",\n",
    "        r'NDA5': \"NDA5\",\n",
    "        r'NDA0': \"NDA0\",\n",
    "        r\"ND\": \"ND\",\n",
    "        r\"HFDK\\+\": \"HFDK+\",\n",
    "    }\n",
    "\n",
    "    for pattern, subtreatment in subtreatment_patterns.items():\n",
    "        match = re.search(pattern, image_name, re.IGNORECASE)\n",
    "        if match:\n",
    "            return match.group(0)  # Return the matched text itself\n",
    "\n",
    "    return None  # Return None if no match found\n",
    "\n",
    "# Example usage (Unchanged from your original)\n",
    "\n",
    "for image_name in ann.Image:\n",
    "    subtreatment = extract_subtreatment(image_name)\n",
    "    if subtreatment:\n",
    "        ann.loc[ann['Image'] == image_name, 'TreatmentSubType'] = subtreatment\n"
   ],
   "id": "882a8fb9f2b9b5f0",
   "outputs": [],
   "execution_count": 165
  },
  {
   "metadata": {
    "ExecuteTime": {
     "end_time": "2024-05-15T12:04:14.198363Z",
     "start_time": "2024-05-15T12:04:14.186684Z"
    }
   },
   "cell_type": "code",
   "source": "ann.TreatmentSubType.astype('object')",
   "id": "45dd231a066d2261",
   "outputs": [
    {
     "data": {
      "text/plain": [
       "0       HFDA151\n",
       "1       HFDA151\n",
       "2       HFDA153\n",
       "3       HFDA151\n",
       "4       HFDA151\n",
       "         ...   \n",
       "1171      NDA25\n",
       "1172      NDA25\n",
       "1173      NDA25\n",
       "1174      NDA25\n",
       "1175      NDA25\n",
       "Name: TreatmentSubType, Length: 1176, dtype: object"
      ]
     },
     "execution_count": 166,
     "metadata": {},
     "output_type": "execute_result"
    }
   ],
   "execution_count": 166
  },
  {
   "metadata": {
    "ExecuteTime": {
     "end_time": "2024-05-15T12:04:17.170909Z",
     "start_time": "2024-05-15T12:04:17.153771Z"
    }
   },
   "cell_type": "code",
   "source": "ann",
   "id": "eb324fb75596f59d",
   "outputs": [
    {
     "data": {
      "text/plain": [
       "     TreatmentType                        Image TreatmentSubType\n",
       "0           HFD10X  Hepar-HFDA151X10-2_T00.tiff          HFDA151\n",
       "1           HFD10X  Hepar-HFDA151X10-2_T01.tiff          HFDA151\n",
       "2           HFD10X  Hepar-HFDA153X10-1_T11.tiff          HFDA153\n",
       "3           HFD10X  Hepar-HFDA151X10-2_T11.tiff          HFDA151\n",
       "4           HFD10X  Hepar-HFDA151X10-1_T00.tiff          HFDA151\n",
       "...            ...                          ...              ...\n",
       "1171        ND400X   HeparNDA25.1400x3_T11.tiff            NDA25\n",
       "1172        ND400X    HeparNDA25.1400x_T12.tiff            NDA25\n",
       "1173        ND400X    HeparNDA25.3400x_T01.tiff            NDA25\n",
       "1174        ND400X    HeparNDA25.2400x_T12.tiff            NDA25\n",
       "1175        ND400X    HeparNDA25.1400x_T11.tiff            NDA25\n",
       "\n",
       "[1176 rows x 3 columns]"
      ],
      "text/html": [
       "<div>\n",
       "<style scoped>\n",
       "    .dataframe tbody tr th:only-of-type {\n",
       "        vertical-align: middle;\n",
       "    }\n",
       "\n",
       "    .dataframe tbody tr th {\n",
       "        vertical-align: top;\n",
       "    }\n",
       "\n",
       "    .dataframe thead th {\n",
       "        text-align: right;\n",
       "    }\n",
       "</style>\n",
       "<table border=\"1\" class=\"dataframe\">\n",
       "  <thead>\n",
       "    <tr style=\"text-align: right;\">\n",
       "      <th></th>\n",
       "      <th>TreatmentType</th>\n",
       "      <th>Image</th>\n",
       "      <th>TreatmentSubType</th>\n",
       "    </tr>\n",
       "  </thead>\n",
       "  <tbody>\n",
       "    <tr>\n",
       "      <th>0</th>\n",
       "      <td>HFD10X</td>\n",
       "      <td>Hepar-HFDA151X10-2_T00.tiff</td>\n",
       "      <td>HFDA151</td>\n",
       "    </tr>\n",
       "    <tr>\n",
       "      <th>1</th>\n",
       "      <td>HFD10X</td>\n",
       "      <td>Hepar-HFDA151X10-2_T01.tiff</td>\n",
       "      <td>HFDA151</td>\n",
       "    </tr>\n",
       "    <tr>\n",
       "      <th>2</th>\n",
       "      <td>HFD10X</td>\n",
       "      <td>Hepar-HFDA153X10-1_T11.tiff</td>\n",
       "      <td>HFDA153</td>\n",
       "    </tr>\n",
       "    <tr>\n",
       "      <th>3</th>\n",
       "      <td>HFD10X</td>\n",
       "      <td>Hepar-HFDA151X10-2_T11.tiff</td>\n",
       "      <td>HFDA151</td>\n",
       "    </tr>\n",
       "    <tr>\n",
       "      <th>4</th>\n",
       "      <td>HFD10X</td>\n",
       "      <td>Hepar-HFDA151X10-1_T00.tiff</td>\n",
       "      <td>HFDA151</td>\n",
       "    </tr>\n",
       "    <tr>\n",
       "      <th>...</th>\n",
       "      <td>...</td>\n",
       "      <td>...</td>\n",
       "      <td>...</td>\n",
       "    </tr>\n",
       "    <tr>\n",
       "      <th>1171</th>\n",
       "      <td>ND400X</td>\n",
       "      <td>HeparNDA25.1400x3_T11.tiff</td>\n",
       "      <td>NDA25</td>\n",
       "    </tr>\n",
       "    <tr>\n",
       "      <th>1172</th>\n",
       "      <td>ND400X</td>\n",
       "      <td>HeparNDA25.1400x_T12.tiff</td>\n",
       "      <td>NDA25</td>\n",
       "    </tr>\n",
       "    <tr>\n",
       "      <th>1173</th>\n",
       "      <td>ND400X</td>\n",
       "      <td>HeparNDA25.3400x_T01.tiff</td>\n",
       "      <td>NDA25</td>\n",
       "    </tr>\n",
       "    <tr>\n",
       "      <th>1174</th>\n",
       "      <td>ND400X</td>\n",
       "      <td>HeparNDA25.2400x_T12.tiff</td>\n",
       "      <td>NDA25</td>\n",
       "    </tr>\n",
       "    <tr>\n",
       "      <th>1175</th>\n",
       "      <td>ND400X</td>\n",
       "      <td>HeparNDA25.1400x_T11.tiff</td>\n",
       "      <td>NDA25</td>\n",
       "    </tr>\n",
       "  </tbody>\n",
       "</table>\n",
       "<p>1176 rows × 3 columns</p>\n",
       "</div>"
      ]
     },
     "execution_count": 167,
     "metadata": {},
     "output_type": "execute_result"
    }
   ],
   "execution_count": 167
  },
  {
   "metadata": {
    "ExecuteTime": {
     "end_time": "2024-05-15T12:11:27.738528Z",
     "start_time": "2024-05-15T12:11:27.733216Z"
    }
   },
   "cell_type": "code",
   "source": "transform_hfda = lambda x: 'HFDA' + x[4:6] if x.startswith('HFDA') and len(x) > 4 else x",
   "id": "16b26a18d53fa1f",
   "outputs": [],
   "execution_count": 183
  },
  {
   "metadata": {
    "ExecuteTime": {
     "end_time": "2024-05-15T12:11:28.407709Z",
     "start_time": "2024-05-15T12:11:28.400808Z"
    }
   },
   "cell_type": "code",
   "source": [
    "ann['TreatmentSubType'] = ann['TreatmentSubType'].apply(\n",
    "    transform_hfda\n",
    ")"
   ],
   "id": "c30abf67127c6c69",
   "outputs": [],
   "execution_count": 184
  },
  {
   "metadata": {
    "ExecuteTime": {
     "end_time": "2024-05-15T12:11:29.668534Z",
     "start_time": "2024-05-15T12:11:29.660122Z"
    }
   },
   "cell_type": "code",
   "source": "ann.TreatmentSubType.unique()",
   "id": "2b37ae7a762175ea",
   "outputs": [
    {
     "data": {
      "text/plain": [
       "array(['HFDA15', 'HFDA5', 'HFDA10', 'HFDA25', 'HFDSIMV', 'HFDA20',\n",
       "       'HFDA0', 'HFDK+', 'HFDNaCl', 'normal', 'NDA5', 'ND', 'NDA0',\n",
       "       'NDA25'], dtype=object)"
      ]
     },
     "execution_count": 185,
     "metadata": {},
     "output_type": "execute_result"
    }
   ],
   "execution_count": 185
  },
  {
   "metadata": {
    "ExecuteTime": {
     "end_time": "2024-05-15T12:12:05.235106Z",
     "start_time": "2024-05-15T12:12:05.224083Z"
    }
   },
   "cell_type": "code",
   "source": "# ann.to_csv(\"../data/processed/AnnotHepar.csv\")",
   "id": "4dbefca2e1a088ed",
   "outputs": [],
   "execution_count": 188
  }
 ],
 "metadata": {
  "kernelspec": {
   "display_name": "Python 3",
   "language": "python",
   "name": "python3"
  },
  "language_info": {
   "codemirror_mode": {
    "name": "ipython",
    "version": 2
   },
   "file_extension": ".py",
   "mimetype": "text/x-python",
   "name": "python",
   "nbconvert_exporter": "python",
   "pygments_lexer": "ipython2",
   "version": "2.7.6"
  }
 },
 "nbformat": 4,
 "nbformat_minor": 5
}
