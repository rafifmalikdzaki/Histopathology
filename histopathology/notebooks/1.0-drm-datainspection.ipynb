{
 "cells": [
  {
   "cell_type": "code",
   "id": "initial_id",
   "metadata": {
    "collapsed": true,
    "ExecuteTime": {
     "end_time": "2024-06-12T17:34:26.274255Z",
     "start_time": "2024-06-12T17:34:26.272043Z"
    }
   },
   "source": "import pandas as pd",
   "outputs": [],
   "execution_count": 5
  },
  {
   "metadata": {
    "ExecuteTime": {
     "end_time": "2024-06-12T17:34:26.921793Z",
     "start_time": "2024-06-12T17:34:26.696872Z"
    }
   },
   "cell_type": "code",
   "source": "!pwd",
   "id": "7158c368bda79137",
   "outputs": [
    {
     "name": "stdout",
     "output_type": "stream",
     "text": [
      "/home/dzakirm/Research/Histopathology/histopathology/notebooks\r\n"
     ]
    }
   ],
   "execution_count": 6
  },
  {
   "metadata": {
    "ExecuteTime": {
     "end_time": "2024-06-12T17:34:27.451349Z",
     "start_time": "2024-06-12T17:34:27.448918Z"
    }
   },
   "cell_type": "code",
   "source": [
    "ANNOT_PATH = '../data/interim/HistoHeparTiled.csv'\n",
    "IMG_PATH = '../data/interim/tiles_preproc/'"
   ],
   "id": "8472b3e9cbb4a1f8",
   "outputs": [],
   "execution_count": 7
  },
  {
   "metadata": {
    "ExecuteTime": {
     "end_time": "2024-06-12T17:34:28.410536Z",
     "start_time": "2024-06-12T17:34:28.395658Z"
    }
   },
   "cell_type": "code",
   "source": [
    "ann = pd.read_csv(ANNOT_PATH)\n",
    "ann"
   ],
   "id": "2d05c2539b7fe218",
   "outputs": [
    {
     "data": {
      "text/plain": [
       "      TreatmentType                        Image  TreatmentSubType\n",
       "0            HFD10X  Hepar-HFDA151X10-2_T00.tiff               NaN\n",
       "1            HFD10X  Hepar-HFDA151X10-2_T01.tiff               NaN\n",
       "2            HFD10X  Hepar-HFDA153X10-1_T11.tiff               NaN\n",
       "3            HFD10X  Hepar-HFDA151X10-2_T11.tiff               NaN\n",
       "4            HFD10X  Hepar-HFDA151X10-1_T00.tiff               NaN\n",
       "...             ...                          ...               ...\n",
       "21163        ND400X   HeparNDA25.2400x2_T89.tiff               NaN\n",
       "21164        ND400X    HeparNDA25.1400x_T63.tiff               NaN\n",
       "21165        ND400X   HeparNDA25.3400x1_T82.tiff               NaN\n",
       "21166        ND400X   HeparNDA25.3400x2_T68.tiff               NaN\n",
       "21167        ND400X   HeparNDA25.4400x1_T86.tiff               NaN\n",
       "\n",
       "[21168 rows x 3 columns]"
      ],
      "text/html": [
       "<div>\n",
       "<style scoped>\n",
       "    .dataframe tbody tr th:only-of-type {\n",
       "        vertical-align: middle;\n",
       "    }\n",
       "\n",
       "    .dataframe tbody tr th {\n",
       "        vertical-align: top;\n",
       "    }\n",
       "\n",
       "    .dataframe thead th {\n",
       "        text-align: right;\n",
       "    }\n",
       "</style>\n",
       "<table border=\"1\" class=\"dataframe\">\n",
       "  <thead>\n",
       "    <tr style=\"text-align: right;\">\n",
       "      <th></th>\n",
       "      <th>TreatmentType</th>\n",
       "      <th>Image</th>\n",
       "      <th>TreatmentSubType</th>\n",
       "    </tr>\n",
       "  </thead>\n",
       "  <tbody>\n",
       "    <tr>\n",
       "      <th>0</th>\n",
       "      <td>HFD10X</td>\n",
       "      <td>Hepar-HFDA151X10-2_T00.tiff</td>\n",
       "      <td>NaN</td>\n",
       "    </tr>\n",
       "    <tr>\n",
       "      <th>1</th>\n",
       "      <td>HFD10X</td>\n",
       "      <td>Hepar-HFDA151X10-2_T01.tiff</td>\n",
       "      <td>NaN</td>\n",
       "    </tr>\n",
       "    <tr>\n",
       "      <th>2</th>\n",
       "      <td>HFD10X</td>\n",
       "      <td>Hepar-HFDA153X10-1_T11.tiff</td>\n",
       "      <td>NaN</td>\n",
       "    </tr>\n",
       "    <tr>\n",
       "      <th>3</th>\n",
       "      <td>HFD10X</td>\n",
       "      <td>Hepar-HFDA151X10-2_T11.tiff</td>\n",
       "      <td>NaN</td>\n",
       "    </tr>\n",
       "    <tr>\n",
       "      <th>4</th>\n",
       "      <td>HFD10X</td>\n",
       "      <td>Hepar-HFDA151X10-1_T00.tiff</td>\n",
       "      <td>NaN</td>\n",
       "    </tr>\n",
       "    <tr>\n",
       "      <th>...</th>\n",
       "      <td>...</td>\n",
       "      <td>...</td>\n",
       "      <td>...</td>\n",
       "    </tr>\n",
       "    <tr>\n",
       "      <th>21163</th>\n",
       "      <td>ND400X</td>\n",
       "      <td>HeparNDA25.2400x2_T89.tiff</td>\n",
       "      <td>NaN</td>\n",
       "    </tr>\n",
       "    <tr>\n",
       "      <th>21164</th>\n",
       "      <td>ND400X</td>\n",
       "      <td>HeparNDA25.1400x_T63.tiff</td>\n",
       "      <td>NaN</td>\n",
       "    </tr>\n",
       "    <tr>\n",
       "      <th>21165</th>\n",
       "      <td>ND400X</td>\n",
       "      <td>HeparNDA25.3400x1_T82.tiff</td>\n",
       "      <td>NaN</td>\n",
       "    </tr>\n",
       "    <tr>\n",
       "      <th>21166</th>\n",
       "      <td>ND400X</td>\n",
       "      <td>HeparNDA25.3400x2_T68.tiff</td>\n",
       "      <td>NaN</td>\n",
       "    </tr>\n",
       "    <tr>\n",
       "      <th>21167</th>\n",
       "      <td>ND400X</td>\n",
       "      <td>HeparNDA25.4400x1_T86.tiff</td>\n",
       "      <td>NaN</td>\n",
       "    </tr>\n",
       "  </tbody>\n",
       "</table>\n",
       "<p>21168 rows × 3 columns</p>\n",
       "</div>"
      ]
     },
     "execution_count": 8,
     "metadata": {},
     "output_type": "execute_result"
    }
   ],
   "execution_count": 8
  },
  {
   "metadata": {
    "ExecuteTime": {
     "end_time": "2024-06-12T17:34:43.793439Z",
     "start_time": "2024-06-12T17:34:43.789334Z"
    }
   },
   "cell_type": "code",
   "source": [
    "from pprint import pprint\n",
    "pprint(ann.Image.unique())"
   ],
   "id": "49ededf31fddd1fd",
   "outputs": [
    {
     "name": "stdout",
     "output_type": "stream",
     "text": [
      "array(['Hepar-HFDA151X10-2_T00.tiff', 'Hepar-HFDA151X10-2_T01.tiff',\n",
      "       'Hepar-HFDA153X10-1_T11.tiff', ..., 'HeparNDA25.3400x1_T82.tiff',\n",
      "       'HeparNDA25.3400x2_T68.tiff', 'HeparNDA25.4400x1_T86.tiff'],\n",
      "      dtype=object)\n"
     ]
    }
   ],
   "execution_count": 9
  },
  {
   "metadata": {
    "ExecuteTime": {
     "end_time": "2024-06-12T17:34:52.714661Z",
     "start_time": "2024-06-12T17:34:52.710780Z"
    }
   },
   "cell_type": "code",
   "source": "ann.Image",
   "id": "19cdfd16af6c3aa7",
   "outputs": [
    {
     "data": {
      "text/plain": [
       "0        Hepar-HFDA151X10-2_T00.tiff\n",
       "1        Hepar-HFDA151X10-2_T01.tiff\n",
       "2        Hepar-HFDA153X10-1_T11.tiff\n",
       "3        Hepar-HFDA151X10-2_T11.tiff\n",
       "4        Hepar-HFDA151X10-1_T00.tiff\n",
       "                    ...             \n",
       "21163     HeparNDA25.2400x2_T89.tiff\n",
       "21164      HeparNDA25.1400x_T63.tiff\n",
       "21165     HeparNDA25.3400x1_T82.tiff\n",
       "21166     HeparNDA25.3400x2_T68.tiff\n",
       "21167     HeparNDA25.4400x1_T86.tiff\n",
       "Name: Image, Length: 21168, dtype: object"
      ]
     },
     "execution_count": 10,
     "metadata": {},
     "output_type": "execute_result"
    }
   ],
   "execution_count": 10
  },
  {
   "metadata": {},
   "cell_type": "markdown",
   "source": "# Annot Code",
   "id": "38578393cc1c048b"
  },
  {
   "metadata": {
    "ExecuteTime": {
     "end_time": "2024-06-12T17:37:08.454214Z",
     "start_time": "2024-06-12T17:36:57.213847Z"
    }
   },
   "cell_type": "code",
   "source": [
    "import re\n",
    "\n",
    "def extract_subtreatment(image_name):\n",
    "    \"\"\"Extracts the subtreatment category from the image name, excluding numbers after the period.\"\"\"\n",
    "\n",
    "    subtreatment_patterns = {\n",
    "        r\"HFDA0\": \"HFDA0\",\n",
    "        r\"HFDA5\" : \"HFDA5\",\n",
    "        r\"HFD101\": \"HFD10\",\n",
    "        r\"HFD15\": \"HFD15\",\n",
    "        r\"HFD20\": \"HFD20\",\n",
    "        r\"HFD25\": \"HFD25\",\n",
    "        r\"HFDNaCl\": \"HFDNaCl\",        \n",
    "        r\"HFDSIMV\": \"HFDSimvastatin\", \n",
    "        r\"normal\": \"normal\",        \n",
    "        r\"NDA25\": \"NDA25\",\n",
    "        r'NDA5': \"NDA5\",\n",
    "        r'NDA0': \"NDA0\",\n",
    "        r\"ND\": \"ND\",\n",
    "        r\"HFDK\\+\": \"HFDK+\",\n",
    "    }\n",
    "\n",
    "    for pattern, subtreatment in subtreatment_patterns.items():\n",
    "        match = re.search(pattern, image_name, re.IGNORECASE)\n",
    "        if match:\n",
    "            return match.group(0)  # Return the matched text itself\n",
    "\n",
    "    return None  # Return None if no match found\n",
    "\n",
    "# Example usage (Unchanged from your original)\n",
    "\n",
    "for image_name in ann.Image:\n",
    "    subtreatment = extract_subtreatment(image_name)\n",
    "    if subtreatment:\n",
    "        ann.loc[ann['Image'] == image_name, 'TreatmentSubType'] = subtreatment\n"
   ],
   "id": "882a8fb9f2b9b5f0",
   "outputs": [],
   "execution_count": 15
  },
  {
   "metadata": {
    "ExecuteTime": {
     "end_time": "2024-06-12T18:11:34.188621Z",
     "start_time": "2024-06-12T18:11:15.431593Z"
    }
   },
   "cell_type": "code",
   "source": [
    "import re\n",
    "\n",
    "def extract_subtreatment(image_name):\n",
    "    \"\"\"Extracts the subtreatment category from the image name, excluding numbers after the period.\"\"\"\n",
    "    subtreatment_patterns = {\n",
    "        r\"HFDA0\": \"HFDA0\",\n",
    "        r\"HFDA5\": \"HFDA5\",\n",
    "        r\"HFDA10\": \"HFDA10\",\n",
    "        r\"HFDA15\": \"HFDA15\",\n",
    "        r\"HFDA20\": \"HFDA20\",\n",
    "        r\"HFDA25\": \"HFDA25\",\n",
    "        r\"HFDNaCl\": \"HFDNaCl\",\n",
    "        r\"HFDSIMV\": \"HFDSimvastatin\",\n",
    "        r\"normal\": \"normal\",\n",
    "        r\"NDA25\": \"NDA25\",\n",
    "        r\"NDA5\": \"NDA5\",\n",
    "        r\"NDA0\": \"NDA0\",\n",
    "        r\"ND\": \"ND\",\n",
    "        r\"HFDK\\+\": \"HFDK+\",\n",
    "    }\n",
    "\n",
    "    for pattern, subtreatment in subtreatment_patterns.items():\n",
    "        match = re.search(pattern, image_name, re.IGNORECASE)\n",
    "        if match:\n",
    "            return subtreatment  # Return the corresponding subtreatment\n",
    "\n",
    "    return None  # Return None if no match found\n",
    "\n",
    "# Example usage\n",
    "\n",
    "for image_name in ann.Image:\n",
    "    subtreatment = extract_subtreatment(image_name)\n",
    "    if subtreatment:\n",
    "        ann.loc[ann['Image'] == image_name, 'TreatmentSubType'] = subtreatment\n"
   ],
   "id": "bcfd9b974ca5a49e",
   "outputs": [],
   "execution_count": 20
  },
  {
   "metadata": {
    "ExecuteTime": {
     "end_time": "2024-06-12T18:11:35.288345Z",
     "start_time": "2024-06-12T18:11:35.283658Z"
    }
   },
   "cell_type": "code",
   "source": "ann.TreatmentSubType.astype('object')",
   "id": "45dd231a066d2261",
   "outputs": [
    {
     "data": {
      "text/plain": [
       "0        HFDA15\n",
       "1        HFDA15\n",
       "2        HFDA15\n",
       "3        HFDA15\n",
       "4        HFDA15\n",
       "          ...  \n",
       "21163     NDA25\n",
       "21164     NDA25\n",
       "21165     NDA25\n",
       "21166     NDA25\n",
       "21167     NDA25\n",
       "Name: TreatmentSubType, Length: 21168, dtype: object"
      ]
     },
     "execution_count": 21,
     "metadata": {},
     "output_type": "execute_result"
    }
   ],
   "execution_count": 21
  },
  {
   "metadata": {
    "ExecuteTime": {
     "end_time": "2024-06-12T18:11:38.765874Z",
     "start_time": "2024-06-12T18:11:38.760751Z"
    }
   },
   "cell_type": "code",
   "source": "ann",
   "id": "eb324fb75596f59d",
   "outputs": [
    {
     "data": {
      "text/plain": [
       "      TreatmentType                        Image TreatmentSubType\n",
       "0            HFD10X  Hepar-HFDA151X10-2_T00.tiff           HFDA15\n",
       "1            HFD10X  Hepar-HFDA151X10-2_T01.tiff           HFDA15\n",
       "2            HFD10X  Hepar-HFDA153X10-1_T11.tiff           HFDA15\n",
       "3            HFD10X  Hepar-HFDA151X10-2_T11.tiff           HFDA15\n",
       "4            HFD10X  Hepar-HFDA151X10-1_T00.tiff           HFDA15\n",
       "...             ...                          ...              ...\n",
       "21163        ND400X   HeparNDA25.2400x2_T89.tiff            NDA25\n",
       "21164        ND400X    HeparNDA25.1400x_T63.tiff            NDA25\n",
       "21165        ND400X   HeparNDA25.3400x1_T82.tiff            NDA25\n",
       "21166        ND400X   HeparNDA25.3400x2_T68.tiff            NDA25\n",
       "21167        ND400X   HeparNDA25.4400x1_T86.tiff            NDA25\n",
       "\n",
       "[21168 rows x 3 columns]"
      ],
      "text/html": [
       "<div>\n",
       "<style scoped>\n",
       "    .dataframe tbody tr th:only-of-type {\n",
       "        vertical-align: middle;\n",
       "    }\n",
       "\n",
       "    .dataframe tbody tr th {\n",
       "        vertical-align: top;\n",
       "    }\n",
       "\n",
       "    .dataframe thead th {\n",
       "        text-align: right;\n",
       "    }\n",
       "</style>\n",
       "<table border=\"1\" class=\"dataframe\">\n",
       "  <thead>\n",
       "    <tr style=\"text-align: right;\">\n",
       "      <th></th>\n",
       "      <th>TreatmentType</th>\n",
       "      <th>Image</th>\n",
       "      <th>TreatmentSubType</th>\n",
       "    </tr>\n",
       "  </thead>\n",
       "  <tbody>\n",
       "    <tr>\n",
       "      <th>0</th>\n",
       "      <td>HFD10X</td>\n",
       "      <td>Hepar-HFDA151X10-2_T00.tiff</td>\n",
       "      <td>HFDA15</td>\n",
       "    </tr>\n",
       "    <tr>\n",
       "      <th>1</th>\n",
       "      <td>HFD10X</td>\n",
       "      <td>Hepar-HFDA151X10-2_T01.tiff</td>\n",
       "      <td>HFDA15</td>\n",
       "    </tr>\n",
       "    <tr>\n",
       "      <th>2</th>\n",
       "      <td>HFD10X</td>\n",
       "      <td>Hepar-HFDA153X10-1_T11.tiff</td>\n",
       "      <td>HFDA15</td>\n",
       "    </tr>\n",
       "    <tr>\n",
       "      <th>3</th>\n",
       "      <td>HFD10X</td>\n",
       "      <td>Hepar-HFDA151X10-2_T11.tiff</td>\n",
       "      <td>HFDA15</td>\n",
       "    </tr>\n",
       "    <tr>\n",
       "      <th>4</th>\n",
       "      <td>HFD10X</td>\n",
       "      <td>Hepar-HFDA151X10-1_T00.tiff</td>\n",
       "      <td>HFDA15</td>\n",
       "    </tr>\n",
       "    <tr>\n",
       "      <th>...</th>\n",
       "      <td>...</td>\n",
       "      <td>...</td>\n",
       "      <td>...</td>\n",
       "    </tr>\n",
       "    <tr>\n",
       "      <th>21163</th>\n",
       "      <td>ND400X</td>\n",
       "      <td>HeparNDA25.2400x2_T89.tiff</td>\n",
       "      <td>NDA25</td>\n",
       "    </tr>\n",
       "    <tr>\n",
       "      <th>21164</th>\n",
       "      <td>ND400X</td>\n",
       "      <td>HeparNDA25.1400x_T63.tiff</td>\n",
       "      <td>NDA25</td>\n",
       "    </tr>\n",
       "    <tr>\n",
       "      <th>21165</th>\n",
       "      <td>ND400X</td>\n",
       "      <td>HeparNDA25.3400x1_T82.tiff</td>\n",
       "      <td>NDA25</td>\n",
       "    </tr>\n",
       "    <tr>\n",
       "      <th>21166</th>\n",
       "      <td>ND400X</td>\n",
       "      <td>HeparNDA25.3400x2_T68.tiff</td>\n",
       "      <td>NDA25</td>\n",
       "    </tr>\n",
       "    <tr>\n",
       "      <th>21167</th>\n",
       "      <td>ND400X</td>\n",
       "      <td>HeparNDA25.4400x1_T86.tiff</td>\n",
       "      <td>NDA25</td>\n",
       "    </tr>\n",
       "  </tbody>\n",
       "</table>\n",
       "<p>21168 rows × 3 columns</p>\n",
       "</div>"
      ]
     },
     "execution_count": 22,
     "metadata": {},
     "output_type": "execute_result"
    }
   ],
   "execution_count": 22
  },
  {
   "metadata": {
    "ExecuteTime": {
     "end_time": "2024-06-12T18:11:40.558797Z",
     "start_time": "2024-06-12T18:11:40.555968Z"
    }
   },
   "cell_type": "code",
   "source": "transform_hfda = lambda x: 'HFDA' + x[4:6] if x.startswith('HFDA') and len(x) > 4 else x",
   "id": "16b26a18d53fa1f",
   "outputs": [],
   "execution_count": 23
  },
  {
   "metadata": {
    "ExecuteTime": {
     "end_time": "2024-06-12T18:11:40.956164Z",
     "start_time": "2024-06-12T18:11:40.949996Z"
    }
   },
   "cell_type": "code",
   "source": [
    "ann['TreatmentSubType'] = ann['TreatmentSubType'].apply(\n",
    "    transform_hfda\n",
    ")"
   ],
   "id": "c30abf67127c6c69",
   "outputs": [],
   "execution_count": 24
  },
  {
   "metadata": {
    "ExecuteTime": {
     "end_time": "2024-06-12T18:11:41.920059Z",
     "start_time": "2024-06-12T18:11:41.916074Z"
    }
   },
   "cell_type": "code",
   "source": "ann.TreatmentSubType.unique()",
   "id": "2b37ae7a762175ea",
   "outputs": [
    {
     "data": {
      "text/plain": [
       "array(['HFDA15', 'HFDA5', 'HFDA10', 'HFDA25', 'HFDSimvastatin', 'HFDA20',\n",
       "       'HFDA0', 'HFDK+', 'HFDNaCl', 'normal', 'NDA5', 'ND', 'NDA0',\n",
       "       'NDA25'], dtype=object)"
      ]
     },
     "execution_count": 25,
     "metadata": {},
     "output_type": "execute_result"
    }
   ],
   "execution_count": 25
  },
  {
   "metadata": {
    "ExecuteTime": {
     "end_time": "2024-06-12T18:11:45.040550Z",
     "start_time": "2024-06-12T18:11:45.019023Z"
    }
   },
   "cell_type": "code",
   "source": "ann.to_csv(\"../data/processed/AnnotHepar.csv\")",
   "id": "4dbefca2e1a088ed",
   "outputs": [],
   "execution_count": 26
  }
 ],
 "metadata": {
  "kernelspec": {
   "display_name": "Python 3",
   "language": "python",
   "name": "python3"
  },
  "language_info": {
   "codemirror_mode": {
    "name": "ipython",
    "version": 2
   },
   "file_extension": ".py",
   "mimetype": "text/x-python",
   "name": "python",
   "nbconvert_exporter": "python",
   "pygments_lexer": "ipython2",
   "version": "2.7.6"
  }
 },
 "nbformat": 4,
 "nbformat_minor": 5
}
